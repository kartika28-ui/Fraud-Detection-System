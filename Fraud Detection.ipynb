{
 "cells": [
  {
   "cell_type": "code",
   "execution_count": 1,
   "metadata": {
    "id": "3zCIEUQ4Z4fu"
   },
   "outputs": [],
   "source": [
    "import pandas as pd\n",
    "import numpy as np\n",
    "import matplotlib.pyplot as plt   \n",
    "import seaborn as sns\n",
    "from sklearn.metrics import accuracy_score, precision_score, recall_score, f1_score, confusion_matrix"
   ]
  },
  {
   "cell_type": "code",
   "execution_count": 2,
   "metadata": {
    "colab": {
     "base_uri": "https://localhost:8080/",
     "height": 206
    },
    "id": "KiJ-GcKPgSLk",
    "outputId": "f68671ba-9870-4da2-9678-796c1b0295ec"
   },
   "outputs": [
    {
     "data": {
      "text/html": [
       "<div>\n",
       "<style scoped>\n",
       "    .dataframe tbody tr th:only-of-type {\n",
       "        vertical-align: middle;\n",
       "    }\n",
       "\n",
       "    .dataframe tbody tr th {\n",
       "        vertical-align: top;\n",
       "    }\n",
       "\n",
       "    .dataframe thead th {\n",
       "        text-align: right;\n",
       "    }\n",
       "</style>\n",
       "<table border=\"1\" class=\"dataframe\">\n",
       "  <thead>\n",
       "    <tr style=\"text-align: right;\">\n",
       "      <th></th>\n",
       "      <th>step</th>\n",
       "      <th>type</th>\n",
       "      <th>amount</th>\n",
       "      <th>nameOrig</th>\n",
       "      <th>oldbalanceOrg</th>\n",
       "      <th>newbalanceOrig</th>\n",
       "      <th>nameDest</th>\n",
       "      <th>oldbalanceDest</th>\n",
       "      <th>newbalanceDest</th>\n",
       "      <th>isFraud</th>\n",
       "    </tr>\n",
       "  </thead>\n",
       "  <tbody>\n",
       "    <tr>\n",
       "      <th>0</th>\n",
       "      <td>1</td>\n",
       "      <td>TRANSFER</td>\n",
       "      <td>181.0</td>\n",
       "      <td>C1305486145</td>\n",
       "      <td>181.0</td>\n",
       "      <td>0.0</td>\n",
       "      <td>C553264065</td>\n",
       "      <td>0.0</td>\n",
       "      <td>0.0</td>\n",
       "      <td>1</td>\n",
       "    </tr>\n",
       "    <tr>\n",
       "      <th>1</th>\n",
       "      <td>1</td>\n",
       "      <td>CASH_OUT</td>\n",
       "      <td>181.0</td>\n",
       "      <td>C840083671</td>\n",
       "      <td>181.0</td>\n",
       "      <td>0.0</td>\n",
       "      <td>C38997010</td>\n",
       "      <td>21182.0</td>\n",
       "      <td>0.0</td>\n",
       "      <td>1</td>\n",
       "    </tr>\n",
       "    <tr>\n",
       "      <th>2</th>\n",
       "      <td>1</td>\n",
       "      <td>TRANSFER</td>\n",
       "      <td>2806.0</td>\n",
       "      <td>C1420196421</td>\n",
       "      <td>2806.0</td>\n",
       "      <td>0.0</td>\n",
       "      <td>C972765878</td>\n",
       "      <td>0.0</td>\n",
       "      <td>0.0</td>\n",
       "      <td>1</td>\n",
       "    </tr>\n",
       "    <tr>\n",
       "      <th>3</th>\n",
       "      <td>1</td>\n",
       "      <td>CASH_OUT</td>\n",
       "      <td>2806.0</td>\n",
       "      <td>C2101527076</td>\n",
       "      <td>2806.0</td>\n",
       "      <td>0.0</td>\n",
       "      <td>C1007251739</td>\n",
       "      <td>26202.0</td>\n",
       "      <td>0.0</td>\n",
       "      <td>1</td>\n",
       "    </tr>\n",
       "    <tr>\n",
       "      <th>4</th>\n",
       "      <td>1</td>\n",
       "      <td>TRANSFER</td>\n",
       "      <td>20128.0</td>\n",
       "      <td>C137533655</td>\n",
       "      <td>20128.0</td>\n",
       "      <td>0.0</td>\n",
       "      <td>C1848415041</td>\n",
       "      <td>0.0</td>\n",
       "      <td>0.0</td>\n",
       "      <td>1</td>\n",
       "    </tr>\n",
       "  </tbody>\n",
       "</table>\n",
       "</div>"
      ],
      "text/plain": [
       "   step      type   amount     nameOrig  oldbalanceOrg  newbalanceOrig  \\\n",
       "0     1  TRANSFER    181.0  C1305486145          181.0             0.0   \n",
       "1     1  CASH_OUT    181.0   C840083671          181.0             0.0   \n",
       "2     1  TRANSFER   2806.0  C1420196421         2806.0             0.0   \n",
       "3     1  CASH_OUT   2806.0  C2101527076         2806.0             0.0   \n",
       "4     1  TRANSFER  20128.0   C137533655        20128.0             0.0   \n",
       "\n",
       "      nameDest  oldbalanceDest  newbalanceDest  isFraud  \n",
       "0   C553264065             0.0             0.0        1  \n",
       "1    C38997010         21182.0             0.0        1  \n",
       "2   C972765878             0.0             0.0        1  \n",
       "3  C1007251739         26202.0             0.0        1  \n",
       "4  C1848415041             0.0             0.0        1  "
      ]
     },
     "execution_count": 2,
     "metadata": {},
     "output_type": "execute_result"
    }
   ],
   "source": [
    "df = pd.read_csv('/Users/kartikamusle/Downloads/Fraud_Analysis_Dataset.csv')\n",
    "df.head()"
   ]
  },
  {
   "cell_type": "code",
   "execution_count": 3,
   "metadata": {
    "colab": {
     "base_uri": "https://localhost:8080/"
    },
    "id": "HTCImKUtY8bF",
    "outputId": "184cde4d-bae1-4e8e-da4c-7ae2b87b5622"
   },
   "outputs": [
    {
     "data": {
      "text/plain": [
       "(11142, 10)"
      ]
     },
     "execution_count": 3,
     "metadata": {},
     "output_type": "execute_result"
    }
   ],
   "source": [
    "df.shape"
   ]
  },
  {
   "cell_type": "code",
   "execution_count": 4,
   "metadata": {
    "colab": {
     "base_uri": "https://localhost:8080/"
    },
    "id": "b5QwCXh5gXI3",
    "outputId": "fce91415-c3be-4166-a91f-ed0ad243c0f9"
   },
   "outputs": [
    {
     "name": "stdout",
     "output_type": "stream",
     "text": [
      "<class 'pandas.core.frame.DataFrame'>\n",
      "RangeIndex: 11142 entries, 0 to 11141\n",
      "Data columns (total 10 columns):\n",
      " #   Column          Non-Null Count  Dtype  \n",
      "---  ------          --------------  -----  \n",
      " 0   step            11142 non-null  int64  \n",
      " 1   type            11142 non-null  object \n",
      " 2   amount          11142 non-null  float64\n",
      " 3   nameOrig        11142 non-null  object \n",
      " 4   oldbalanceOrg   11142 non-null  float64\n",
      " 5   newbalanceOrig  11142 non-null  float64\n",
      " 6   nameDest        11142 non-null  object \n",
      " 7   oldbalanceDest  11142 non-null  float64\n",
      " 8   newbalanceDest  11142 non-null  float64\n",
      " 9   isFraud         11142 non-null  int64  \n",
      "dtypes: float64(5), int64(2), object(3)\n",
      "memory usage: 870.6+ KB\n"
     ]
    }
   ],
   "source": [
    "df.info()"
   ]
  },
  {
   "cell_type": "code",
   "execution_count": 5,
   "metadata": {
    "colab": {
     "base_uri": "https://localhost:8080/"
    },
    "id": "a847kFSmjBUd",
    "outputId": "857d9c0a-7abd-4222-f6a9-a9acb71c6d35"
   },
   "outputs": [
    {
     "name": "stdout",
     "output_type": "stream",
     "text": [
      "Transaction types distribution:\n",
      "type\n",
      "PAYMENT     5510\n",
      "CASH_IN     1951\n",
      "CASH_OUT    1871\n",
      "TRANSFER    1464\n",
      "DEBIT        346\n",
      "Name: count, dtype: int64\n",
      "\n",
      "Percentage of each transaction type:\n",
      "type\n",
      "PAYMENT     49.452522\n",
      "CASH_IN     17.510321\n",
      "CASH_OUT    16.792317\n",
      "TRANSFER    13.139472\n",
      "DEBIT        3.105367\n",
      "Name: proportion, dtype: float64\n"
     ]
    }
   ],
   "source": [
    "print(\"Transaction types distribution:\")\n",
    "print(df['type'].value_counts())\n",
    "print(\"\\nPercentage of each transaction type:\")\n",
    "print(df['type'].value_counts(normalize=True) * 100)"
   ]
  },
  {
   "cell_type": "code",
   "execution_count": 6,
   "metadata": {
    "colab": {
     "base_uri": "https://localhost:8080/",
     "height": 398
    },
    "id": "-pFCOKSlgacW",
    "outputId": "d9a0ea80-31f7-4f9c-c74e-6047061fe31f"
   },
   "outputs": [
    {
     "data": {
      "text/plain": [
       "step              0\n",
       "type              0\n",
       "amount            0\n",
       "nameOrig          0\n",
       "oldbalanceOrg     0\n",
       "newbalanceOrig    0\n",
       "nameDest          0\n",
       "oldbalanceDest    0\n",
       "newbalanceDest    0\n",
       "isFraud           0\n",
       "dtype: int64"
      ]
     },
     "execution_count": 6,
     "metadata": {},
     "output_type": "execute_result"
    }
   ],
   "source": [
    "df.isna().sum()"
   ]
  },
  {
   "cell_type": "code",
   "execution_count": 7,
   "metadata": {
    "colab": {
     "base_uri": "https://localhost:8080/"
    },
    "id": "yLEjgYqegcgI",
    "outputId": "25d0061d-cffa-479c-e737-3b208d01d6ab"
   },
   "outputs": [
    {
     "data": {
      "text/plain": [
       "0"
      ]
     },
     "execution_count": 7,
     "metadata": {},
     "output_type": "execute_result"
    }
   ],
   "source": [
    "df.duplicated().sum()"
   ]
  },
  {
   "cell_type": "code",
   "execution_count": 8,
   "metadata": {
    "colab": {
     "base_uri": "https://localhost:8080/"
    },
    "id": "kXBW1IM4gfIH",
    "outputId": "99c9c528-60c7-49bc-c403-e0a7b8783cf7"
   },
   "outputs": [
    {
     "name": "stdout",
     "output_type": "stream",
     "text": [
      "isFraud\n",
      "0    10000\n",
      "1     1142\n",
      "Name: count, dtype: int64\n"
     ]
    }
   ],
   "source": [
    "print(df['isFraud'].value_counts())"
   ]
  },
  {
   "cell_type": "code",
   "execution_count": 9,
   "metadata": {
    "colab": {
     "base_uri": "https://localhost:8080/",
     "height": 300
    },
    "id": "e3dv5SQjjdCA",
    "outputId": "32f76a71-2ce4-4f32-a5aa-029482ffb955"
   },
   "outputs": [
    {
     "data": {
      "text/html": [
       "<div>\n",
       "<style scoped>\n",
       "    .dataframe tbody tr th:only-of-type {\n",
       "        vertical-align: middle;\n",
       "    }\n",
       "\n",
       "    .dataframe tbody tr th {\n",
       "        vertical-align: top;\n",
       "    }\n",
       "\n",
       "    .dataframe thead th {\n",
       "        text-align: right;\n",
       "    }\n",
       "</style>\n",
       "<table border=\"1\" class=\"dataframe\">\n",
       "  <thead>\n",
       "    <tr style=\"text-align: right;\">\n",
       "      <th></th>\n",
       "      <th>step</th>\n",
       "      <th>amount</th>\n",
       "      <th>oldbalanceOrg</th>\n",
       "      <th>newbalanceOrig</th>\n",
       "      <th>oldbalanceDest</th>\n",
       "      <th>newbalanceDest</th>\n",
       "      <th>isFraud</th>\n",
       "    </tr>\n",
       "  </thead>\n",
       "  <tbody>\n",
       "    <tr>\n",
       "      <th>count</th>\n",
       "      <td>11142.000000</td>\n",
       "      <td>1.114200e+04</td>\n",
       "      <td>1.114200e+04</td>\n",
       "      <td>1.114200e+04</td>\n",
       "      <td>1.114200e+04</td>\n",
       "      <td>1.114200e+04</td>\n",
       "      <td>11142.000000</td>\n",
       "    </tr>\n",
       "    <tr>\n",
       "      <th>mean</th>\n",
       "      <td>8.717645</td>\n",
       "      <td>2.131915e+05</td>\n",
       "      <td>9.241173e+05</td>\n",
       "      <td>8.249576e+05</td>\n",
       "      <td>8.883541e+05</td>\n",
       "      <td>1.103211e+06</td>\n",
       "      <td>0.102495</td>\n",
       "    </tr>\n",
       "    <tr>\n",
       "      <th>std</th>\n",
       "      <td>16.067479</td>\n",
       "      <td>7.600650e+05</td>\n",
       "      <td>2.143004e+06</td>\n",
       "      <td>2.089894e+06</td>\n",
       "      <td>2.601376e+06</td>\n",
       "      <td>2.982447e+06</td>\n",
       "      <td>0.303312</td>\n",
       "    </tr>\n",
       "    <tr>\n",
       "      <th>min</th>\n",
       "      <td>1.000000</td>\n",
       "      <td>2.390000e+00</td>\n",
       "      <td>0.000000e+00</td>\n",
       "      <td>0.000000e+00</td>\n",
       "      <td>0.000000e+00</td>\n",
       "      <td>0.000000e+00</td>\n",
       "      <td>0.000000</td>\n",
       "    </tr>\n",
       "    <tr>\n",
       "      <th>25%</th>\n",
       "      <td>2.000000</td>\n",
       "      <td>4.946618e+03</td>\n",
       "      <td>4.270000e+02</td>\n",
       "      <td>0.000000e+00</td>\n",
       "      <td>0.000000e+00</td>\n",
       "      <td>0.000000e+00</td>\n",
       "      <td>0.000000</td>\n",
       "    </tr>\n",
       "    <tr>\n",
       "      <th>50%</th>\n",
       "      <td>6.000000</td>\n",
       "      <td>1.676126e+04</td>\n",
       "      <td>2.816950e+04</td>\n",
       "      <td>4.420605e+03</td>\n",
       "      <td>0.000000e+00</td>\n",
       "      <td>0.000000e+00</td>\n",
       "      <td>0.000000</td>\n",
       "    </tr>\n",
       "    <tr>\n",
       "      <th>75%</th>\n",
       "      <td>7.000000</td>\n",
       "      <td>1.543366e+05</td>\n",
       "      <td>3.040855e+05</td>\n",
       "      <td>1.114126e+05</td>\n",
       "      <td>2.711555e+05</td>\n",
       "      <td>3.186374e+05</td>\n",
       "      <td>0.000000</td>\n",
       "    </tr>\n",
       "    <tr>\n",
       "      <th>max</th>\n",
       "      <td>95.000000</td>\n",
       "      <td>1.000000e+07</td>\n",
       "      <td>1.990000e+07</td>\n",
       "      <td>1.300000e+07</td>\n",
       "      <td>3.300000e+07</td>\n",
       "      <td>3.460000e+07</td>\n",
       "      <td>1.000000</td>\n",
       "    </tr>\n",
       "  </tbody>\n",
       "</table>\n",
       "</div>"
      ],
      "text/plain": [
       "               step        amount  oldbalanceOrg  newbalanceOrig  \\\n",
       "count  11142.000000  1.114200e+04   1.114200e+04    1.114200e+04   \n",
       "mean       8.717645  2.131915e+05   9.241173e+05    8.249576e+05   \n",
       "std       16.067479  7.600650e+05   2.143004e+06    2.089894e+06   \n",
       "min        1.000000  2.390000e+00   0.000000e+00    0.000000e+00   \n",
       "25%        2.000000  4.946618e+03   4.270000e+02    0.000000e+00   \n",
       "50%        6.000000  1.676126e+04   2.816950e+04    4.420605e+03   \n",
       "75%        7.000000  1.543366e+05   3.040855e+05    1.114126e+05   \n",
       "max       95.000000  1.000000e+07   1.990000e+07    1.300000e+07   \n",
       "\n",
       "       oldbalanceDest  newbalanceDest       isFraud  \n",
       "count    1.114200e+04    1.114200e+04  11142.000000  \n",
       "mean     8.883541e+05    1.103211e+06      0.102495  \n",
       "std      2.601376e+06    2.982447e+06      0.303312  \n",
       "min      0.000000e+00    0.000000e+00      0.000000  \n",
       "25%      0.000000e+00    0.000000e+00      0.000000  \n",
       "50%      0.000000e+00    0.000000e+00      0.000000  \n",
       "75%      2.711555e+05    3.186374e+05      0.000000  \n",
       "max      3.300000e+07    3.460000e+07      1.000000  "
      ]
     },
     "execution_count": 9,
     "metadata": {},
     "output_type": "execute_result"
    }
   ],
   "source": [
    "df.describe()"
   ]
  },
  {
   "cell_type": "markdown",
   "metadata": {
    "id": "J3RFdvqxlvyP"
   },
   "source": [
    "# EDA"
   ]
  },
  {
   "cell_type": "code",
   "execution_count": 10,
   "metadata": {
    "colab": {
     "base_uri": "https://localhost:8080/",
     "height": 410
    },
    "id": "VYDO-k51jns0",
    "outputId": "42558431-d81e-4a3f-ea0c-8b09749c5b49"
   },
   "outputs": [
    {
     "data": {
      "image/png": "[encoded data removed]",
      "text/plain": [
       "<Figure size 600x400 with 1 Axes>"
      ]
     },
     "metadata": {},
     "output_type": "display_data"
    }
   ],
   "source": [
    "plt.figure(figsize=(6,4))\n",
    "sns.countplot(x='isFraud', data=df)\n",
    "plt.title('Fraud(1) vs Not Fraud(0)')\n",
    "plt.show()"
   ]
  },
  {
   "cell_type": "code",
   "execution_count": 11,
   "metadata": {
    "colab": {
     "base_uri": "https://localhost:8080/",
     "height": 410
    },
    "id": "2V-1S6pplxA_",
    "outputId": "59fa505f-49b7-4bbf-b820-aa3bd398a4e6"
   },
   "outputs": [
    {
     "data": {
      "image/png": "[encoded data removed]",
      "text/plain": [
       "<Figure size 1000x400 with 1 Axes>"
      ]
     },
     "metadata": {},
     "output_type": "display_data"
    }
   ],
   "source": [
    "plt.figure(figsize=(10,4))\n",
    "sns.countplot(x='type', data=df)\n",
    "plt.title('Transactions by type')\n",
    "plt.show()"
   ]
  },
  {
   "cell_type": "code",
   "execution_count": 12,
   "metadata": {
    "colab": {
     "base_uri": "https://localhost:8080/",
     "height": 499
    },
    "id": "-jXDFWBsmfUD",
    "outputId": "bc132a4b-72b0-49ea-d9ef-ef14ee0f2684"
   },
   "outputs": [
    {
     "name": "stderr",
     "output_type": "stream",
     "text": [
      "/var/folders/_c/w90j7c8s0ng2vn3jbt_9h1cw0000gn/T/ipykernel_2927/1568938974.py:2: FutureWarning: \n",
      "\n",
      "The `ci` parameter is deprecated. Use `errorbar=None` for the same effect.\n",
      "\n",
      "  sns.barplot(x='type', y='isFraud', data=df, ci= None)\n"
     ]
    },
    {
     "data": {
      "image/png": "[encoded data removed]",
      "text/plain": [
       "<Figure size 800x400 with 1 Axes>"
      ]
     },
     "metadata": {},
     "output_type": "display_data"
    }
   ],
   "source": [
    "plt.figure(figsize=(8,4))\n",
    "sns.barplot(x='type', y='isFraud', data=df, ci= None)\n",
    "plt.title('Fraud Rate by Transaction Type')\n",
    "plt.show()"
   ]
  },
  {
   "cell_type": "code",
   "execution_count": 13,
   "metadata": {
    "colab": {
     "base_uri": "https://localhost:8080/",
     "height": 410
    },
    "id": "m0kyfEbKm0-p",
    "outputId": "e556a7da-1ccf-47cf-cc5c-2c7b671f5954"
   },
   "outputs": [
    {
     "data": {
      "image/png": "[encoded data removed]",
      "text/plain": [
       "<Figure size 800x400 with 1 Axes>"
      ]
     },
     "metadata": {},
     "output_type": "display_data"
    }
   ],
   "source": [
    "plt.figure(figsize=(8,4))\n",
    "sns.histplot(df['amount'],bins= 80, kde= True)\n",
    "plt.title('Amount Distribution')\n",
    "plt.show()"
   ]
  },
  {
   "cell_type": "code",
   "execution_count": 14,
   "metadata": {
    "colab": {
     "base_uri": "https://localhost:8080/",
     "height": 410
    },
    "id": "X_YmyqFAnZA6",
    "outputId": "c6cfd8ff-1490-4244-8730-63f6cb0279ae"
   },
   "outputs": [
    {
     "data": {
      "image/png": "[encoded data removed]",
      "text/plain": [
       "<Figure size 800x400 with 1 Axes>"
      ]
     },
     "metadata": {},
     "output_type": "display_data"
    }
   ],
   "source": [
    "plt.figure(figsize=(8,4))\n",
    "sns.boxplot(x='isFraud', y=np.log1p(df['amount']), data=df)\n",
    "plt.title('Log(1+amount) by isFraud')\n",
    "plt.show()"
   ]
  },
  {
   "cell_type": "code",
   "execution_count": 15,
   "metadata": {
    "colab": {
     "base_uri": "https://localhost:8080/",
     "height": 646
    },
    "id": "ZOjcRNjbnfQa",
    "outputId": "0997bd9a-0fc7-40dd-f711-bae403933933"
   },
   "outputs": [
    {
     "data": {
      "image/png": "[encoded data removed]",
      "text/plain": [
       "<Figure size 800x600 with 2 Axes>"
      ]
     },
     "metadata": {},
     "output_type": "display_data"
    }
   ],
   "source": [
    "plt.figure(figsize=(8,6))\n",
    "sns.heatmap(df.select_dtypes(include=[np.number]).corr(), annot=True, fmt='.2f')\n",
    "plt.title('Correlation (numeric)')\n",
    "plt.show()"
   ]
  },
  {
   "cell_type": "markdown",
   "metadata": {
    "id": "mKASbth1orwh"
   },
   "source": [
    "# Feature Engineeering"
   ]
  },
  {
   "cell_type": "code",
   "execution_count": 16,
   "metadata": {
    "id": "etkeydqgnheC"
   },
   "outputs": [],
   "source": [
    "df['OrigBalanceChange'] = df['newbalanceOrig'] - df['oldbalanceOrg']\n",
    "df['DestBalanceChange'] = df['newbalanceDest'] - df['oldbalanceDest']\n",
    "df['amount_to_oldOrig'] = df['amount'] / (df['oldbalanceOrg'] + 1)\n",
    "df['amount_to_oldDest'] = df['amount'] / (df['oldbalanceDest'] + 1)\n",
    "df['dest_is_customer'] = df['nameDest'].str.startswith('C').astype(int)\n",
    "df['log_amount'] = np.log1p(df['amount'])\n",
    "\n",
    "df['balance_mismatch'] = 0\n",
    "df.loc[(df['type'] == 'CASH_IN') & (df['newbalanceOrig'] < df['oldbalanceOrg']), 'balance_mismatch'] = 1\n",
    "df.loc[(df['type'] == 'CASH_OUT') & (df['newbalanceOrig'] > df['oldbalanceOrg']), 'balance_mismatch'] = 1\n",
    "df.loc[df['amount'] > 1e6, 'balance_mismatch'] = 1\n",
    "\n",
    "df_model = df.drop(columns=['nameOrig', 'nameDest'])\n"
   ]
  },
  {
   "cell_type": "code",
   "execution_count": 17,
   "metadata": {
    "colab": {
     "base_uri": "https://localhost:8080/",
     "height": 383
    },
    "id": "Bki3J9GzsOcJ",
    "outputId": "6629fc4d-0ffe-4f01-8ce7-e97fe4a4a789"
   },
   "outputs": [
    {
     "data": {
      "text/html": [
       "<div>\n",
       "<style scoped>\n",
       "    .dataframe tbody tr th:only-of-type {\n",
       "        vertical-align: middle;\n",
       "    }\n",
       "\n",
       "    .dataframe tbody tr th {\n",
       "        vertical-align: top;\n",
       "    }\n",
       "\n",
       "    .dataframe thead th {\n",
       "        text-align: right;\n",
       "    }\n",
       "</style>\n",
       "<table border=\"1\" class=\"dataframe\">\n",
       "  <thead>\n",
       "    <tr style=\"text-align: right;\">\n",
       "      <th></th>\n",
       "      <th>step</th>\n",
       "      <th>type</th>\n",
       "      <th>amount</th>\n",
       "      <th>oldbalanceOrg</th>\n",
       "      <th>newbalanceOrig</th>\n",
       "      <th>oldbalanceDest</th>\n",
       "      <th>newbalanceDest</th>\n",
       "      <th>isFraud</th>\n",
       "      <th>OrigBalanceChange</th>\n",
       "      <th>DestBalanceChange</th>\n",
       "      <th>amount_to_oldOrig</th>\n",
       "      <th>amount_to_oldDest</th>\n",
       "      <th>dest_is_customer</th>\n",
       "      <th>log_amount</th>\n",
       "      <th>balance_mismatch</th>\n",
       "    </tr>\n",
       "  </thead>\n",
       "  <tbody>\n",
       "    <tr>\n",
       "      <th>0</th>\n",
       "      <td>1</td>\n",
       "      <td>TRANSFER</td>\n",
       "      <td>181.00</td>\n",
       "      <td>181.00</td>\n",
       "      <td>0.0</td>\n",
       "      <td>0.0</td>\n",
       "      <td>0.00</td>\n",
       "      <td>1</td>\n",
       "      <td>-181.00</td>\n",
       "      <td>0.00</td>\n",
       "      <td>0.994505</td>\n",
       "      <td>1.810000e+02</td>\n",
       "      <td>1</td>\n",
       "      <td>5.204007</td>\n",
       "      <td>0</td>\n",
       "    </tr>\n",
       "    <tr>\n",
       "      <th>1</th>\n",
       "      <td>1</td>\n",
       "      <td>CASH_OUT</td>\n",
       "      <td>181.00</td>\n",
       "      <td>181.00</td>\n",
       "      <td>0.0</td>\n",
       "      <td>21182.0</td>\n",
       "      <td>0.00</td>\n",
       "      <td>1</td>\n",
       "      <td>-181.00</td>\n",
       "      <td>-21182.00</td>\n",
       "      <td>0.994505</td>\n",
       "      <td>8.544588e-03</td>\n",
       "      <td>1</td>\n",
       "      <td>5.204007</td>\n",
       "      <td>0</td>\n",
       "    </tr>\n",
       "    <tr>\n",
       "      <th>2</th>\n",
       "      <td>1</td>\n",
       "      <td>TRANSFER</td>\n",
       "      <td>2806.00</td>\n",
       "      <td>2806.00</td>\n",
       "      <td>0.0</td>\n",
       "      <td>0.0</td>\n",
       "      <td>0.00</td>\n",
       "      <td>1</td>\n",
       "      <td>-2806.00</td>\n",
       "      <td>0.00</td>\n",
       "      <td>0.999644</td>\n",
       "      <td>2.806000e+03</td>\n",
       "      <td>1</td>\n",
       "      <td>7.939872</td>\n",
       "      <td>0</td>\n",
       "    </tr>\n",
       "    <tr>\n",
       "      <th>3</th>\n",
       "      <td>1</td>\n",
       "      <td>CASH_OUT</td>\n",
       "      <td>2806.00</td>\n",
       "      <td>2806.00</td>\n",
       "      <td>0.0</td>\n",
       "      <td>26202.0</td>\n",
       "      <td>0.00</td>\n",
       "      <td>1</td>\n",
       "      <td>-2806.00</td>\n",
       "      <td>-26202.00</td>\n",
       "      <td>0.999644</td>\n",
       "      <td>1.070870e-01</td>\n",
       "      <td>1</td>\n",
       "      <td>7.939872</td>\n",
       "      <td>0</td>\n",
       "    </tr>\n",
       "    <tr>\n",
       "      <th>4</th>\n",
       "      <td>1</td>\n",
       "      <td>TRANSFER</td>\n",
       "      <td>20128.00</td>\n",
       "      <td>20128.00</td>\n",
       "      <td>0.0</td>\n",
       "      <td>0.0</td>\n",
       "      <td>0.00</td>\n",
       "      <td>1</td>\n",
       "      <td>-20128.00</td>\n",
       "      <td>0.00</td>\n",
       "      <td>0.999950</td>\n",
       "      <td>2.012800e+04</td>\n",
       "      <td>1</td>\n",
       "      <td>9.909917</td>\n",
       "      <td>0</td>\n",
       "    </tr>\n",
       "    <tr>\n",
       "      <th>5</th>\n",
       "      <td>1</td>\n",
       "      <td>CASH_OUT</td>\n",
       "      <td>20128.00</td>\n",
       "      <td>20128.00</td>\n",
       "      <td>0.0</td>\n",
       "      <td>6268.0</td>\n",
       "      <td>12145.85</td>\n",
       "      <td>1</td>\n",
       "      <td>-20128.00</td>\n",
       "      <td>5877.85</td>\n",
       "      <td>0.999950</td>\n",
       "      <td>3.210719e+00</td>\n",
       "      <td>1</td>\n",
       "      <td>9.909917</td>\n",
       "      <td>0</td>\n",
       "    </tr>\n",
       "    <tr>\n",
       "      <th>6</th>\n",
       "      <td>1</td>\n",
       "      <td>CASH_OUT</td>\n",
       "      <td>416001.33</td>\n",
       "      <td>0.00</td>\n",
       "      <td>0.0</td>\n",
       "      <td>102.0</td>\n",
       "      <td>9291619.62</td>\n",
       "      <td>1</td>\n",
       "      <td>0.00</td>\n",
       "      <td>9291517.62</td>\n",
       "      <td>416001.330000</td>\n",
       "      <td>4.038848e+03</td>\n",
       "      <td>1</td>\n",
       "      <td>12.938446</td>\n",
       "      <td>0</td>\n",
       "    </tr>\n",
       "    <tr>\n",
       "      <th>7</th>\n",
       "      <td>1</td>\n",
       "      <td>TRANSFER</td>\n",
       "      <td>1277212.77</td>\n",
       "      <td>1277212.77</td>\n",
       "      <td>0.0</td>\n",
       "      <td>0.0</td>\n",
       "      <td>0.00</td>\n",
       "      <td>1</td>\n",
       "      <td>-1277212.77</td>\n",
       "      <td>0.00</td>\n",
       "      <td>0.999999</td>\n",
       "      <td>1.277213e+06</td>\n",
       "      <td>1</td>\n",
       "      <td>14.060192</td>\n",
       "      <td>1</td>\n",
       "    </tr>\n",
       "    <tr>\n",
       "      <th>8</th>\n",
       "      <td>1</td>\n",
       "      <td>CASH_OUT</td>\n",
       "      <td>1277212.77</td>\n",
       "      <td>1277212.77</td>\n",
       "      <td>0.0</td>\n",
       "      <td>0.0</td>\n",
       "      <td>2444985.19</td>\n",
       "      <td>1</td>\n",
       "      <td>-1277212.77</td>\n",
       "      <td>2444985.19</td>\n",
       "      <td>0.999999</td>\n",
       "      <td>1.277213e+06</td>\n",
       "      <td>1</td>\n",
       "      <td>14.060192</td>\n",
       "      <td>1</td>\n",
       "    </tr>\n",
       "    <tr>\n",
       "      <th>9</th>\n",
       "      <td>1</td>\n",
       "      <td>TRANSFER</td>\n",
       "      <td>35063.63</td>\n",
       "      <td>35063.63</td>\n",
       "      <td>0.0</td>\n",
       "      <td>0.0</td>\n",
       "      <td>0.00</td>\n",
       "      <td>1</td>\n",
       "      <td>-35063.63</td>\n",
       "      <td>0.00</td>\n",
       "      <td>0.999971</td>\n",
       "      <td>3.506363e+04</td>\n",
       "      <td>1</td>\n",
       "      <td>10.464948</td>\n",
       "      <td>0</td>\n",
       "    </tr>\n",
       "  </tbody>\n",
       "</table>\n",
       "</div>"
      ],
      "text/plain": [
       "   step      type      amount  oldbalanceOrg  newbalanceOrig  oldbalanceDest  \\\n",
       "0     1  TRANSFER      181.00         181.00             0.0             0.0   \n",
       "1     1  CASH_OUT      181.00         181.00             0.0         21182.0   \n",
       "2     1  TRANSFER     2806.00        2806.00             0.0             0.0   \n",
       "3     1  CASH_OUT     2806.00        2806.00             0.0         26202.0   \n",
       "4     1  TRANSFER    20128.00       20128.00             0.0             0.0   \n",
       "5     1  CASH_OUT    20128.00       20128.00             0.0          6268.0   \n",
       "6     1  CASH_OUT   416001.33           0.00             0.0           102.0   \n",
       "7     1  TRANSFER  1277212.77     1277212.77             0.0             0.0   \n",
       "8     1  CASH_OUT  1277212.77     1277212.77             0.0             0.0   \n",
       "9     1  TRANSFER    35063.63       35063.63             0.0             0.0   \n",
       "\n",
       "   newbalanceDest  isFraud  OrigBalanceChange  DestBalanceChange  \\\n",
       "0            0.00        1            -181.00               0.00   \n",
       "1            0.00        1            -181.00          -21182.00   \n",
       "2            0.00        1           -2806.00               0.00   \n",
       "3            0.00        1           -2806.00          -26202.00   \n",
       "4            0.00        1          -20128.00               0.00   \n",
       "5        12145.85        1          -20128.00            5877.85   \n",
       "6      9291619.62        1               0.00         9291517.62   \n",
       "7            0.00        1        -1277212.77               0.00   \n",
       "8      2444985.19        1        -1277212.77         2444985.19   \n",
       "9            0.00        1          -35063.63               0.00   \n",
       "\n",
       "   amount_to_oldOrig  amount_to_oldDest  dest_is_customer  log_amount  \\\n",
       "0           0.994505       1.810000e+02                 1    5.204007   \n",
       "1           0.994505       8.544588e-03                 1    5.204007   \n",
       "2           0.999644       2.806000e+03                 1    7.939872   \n",
       "3           0.999644       1.070870e-01                 1    7.939872   \n",
       "4           0.999950       2.012800e+04                 1    9.909917   \n",
       "5           0.999950       3.210719e+00                 1    9.909917   \n",
       "6      416001.330000       4.038848e+03                 1   12.938446   \n",
       "7           0.999999       1.277213e+06                 1   14.060192   \n",
       "8           0.999999       1.277213e+06                 1   14.060192   \n",
       "9           0.999971       3.506363e+04                 1   10.464948   \n",
       "\n",
       "   balance_mismatch  \n",
       "0                 0  \n",
       "1                 0  \n",
       "2                 0  \n",
       "3                 0  \n",
       "4                 0  \n",
       "5                 0  \n",
       "6                 0  \n",
       "7                 1  \n",
       "8                 1  \n",
       "9                 0  "
      ]
     },
     "execution_count": 17,
     "metadata": {},
     "output_type": "execute_result"
    }
   ],
   "source": [
    "df_model.head(10)"
   ]
  },
  {
   "cell_type": "markdown",
   "metadata": {
    "id": "qGy0n_v9syn4"
   },
   "source": [
    "# Label Encoding"
   ]
  },
  {
   "cell_type": "code",
   "execution_count": 18,
   "metadata": {
    "colab": {
     "base_uri": "https://localhost:8080/",
     "height": 226
    },
    "id": "bRV3VUjQsUBv",
    "outputId": "2efe4a0c-bafd-4353-8c3b-ee9c6693dc48"
   },
   "outputs": [
    {
     "data": {
      "text/html": [
       "<div>\n",
       "<style scoped>\n",
       "    .dataframe tbody tr th:only-of-type {\n",
       "        vertical-align: middle;\n",
       "    }\n",
       "\n",
       "    .dataframe tbody tr th {\n",
       "        vertical-align: top;\n",
       "    }\n",
       "\n",
       "    .dataframe thead th {\n",
       "        text-align: right;\n",
       "    }\n",
       "</style>\n",
       "<table border=\"1\" class=\"dataframe\">\n",
       "  <thead>\n",
       "    <tr style=\"text-align: right;\">\n",
       "      <th></th>\n",
       "      <th>step</th>\n",
       "      <th>type</th>\n",
       "      <th>amount</th>\n",
       "      <th>oldbalanceOrg</th>\n",
       "      <th>newbalanceOrig</th>\n",
       "      <th>oldbalanceDest</th>\n",
       "      <th>newbalanceDest</th>\n",
       "      <th>isFraud</th>\n",
       "      <th>OrigBalanceChange</th>\n",
       "      <th>DestBalanceChange</th>\n",
       "      <th>amount_to_oldOrig</th>\n",
       "      <th>amount_to_oldDest</th>\n",
       "      <th>dest_is_customer</th>\n",
       "      <th>log_amount</th>\n",
       "      <th>balance_mismatch</th>\n",
       "    </tr>\n",
       "  </thead>\n",
       "  <tbody>\n",
       "    <tr>\n",
       "      <th>0</th>\n",
       "      <td>1</td>\n",
       "      <td>4</td>\n",
       "      <td>181.0</td>\n",
       "      <td>181.0</td>\n",
       "      <td>0.0</td>\n",
       "      <td>0.0</td>\n",
       "      <td>0.0</td>\n",
       "      <td>1</td>\n",
       "      <td>-181.0</td>\n",
       "      <td>0.0</td>\n",
       "      <td>0.994505</td>\n",
       "      <td>181.000000</td>\n",
       "      <td>1</td>\n",
       "      <td>5.204007</td>\n",
       "      <td>0</td>\n",
       "    </tr>\n",
       "    <tr>\n",
       "      <th>1</th>\n",
       "      <td>1</td>\n",
       "      <td>1</td>\n",
       "      <td>181.0</td>\n",
       "      <td>181.0</td>\n",
       "      <td>0.0</td>\n",
       "      <td>21182.0</td>\n",
       "      <td>0.0</td>\n",
       "      <td>1</td>\n",
       "      <td>-181.0</td>\n",
       "      <td>-21182.0</td>\n",
       "      <td>0.994505</td>\n",
       "      <td>0.008545</td>\n",
       "      <td>1</td>\n",
       "      <td>5.204007</td>\n",
       "      <td>0</td>\n",
       "    </tr>\n",
       "    <tr>\n",
       "      <th>2</th>\n",
       "      <td>1</td>\n",
       "      <td>4</td>\n",
       "      <td>2806.0</td>\n",
       "      <td>2806.0</td>\n",
       "      <td>0.0</td>\n",
       "      <td>0.0</td>\n",
       "      <td>0.0</td>\n",
       "      <td>1</td>\n",
       "      <td>-2806.0</td>\n",
       "      <td>0.0</td>\n",
       "      <td>0.999644</td>\n",
       "      <td>2806.000000</td>\n",
       "      <td>1</td>\n",
       "      <td>7.939872</td>\n",
       "      <td>0</td>\n",
       "    </tr>\n",
       "    <tr>\n",
       "      <th>3</th>\n",
       "      <td>1</td>\n",
       "      <td>1</td>\n",
       "      <td>2806.0</td>\n",
       "      <td>2806.0</td>\n",
       "      <td>0.0</td>\n",
       "      <td>26202.0</td>\n",
       "      <td>0.0</td>\n",
       "      <td>1</td>\n",
       "      <td>-2806.0</td>\n",
       "      <td>-26202.0</td>\n",
       "      <td>0.999644</td>\n",
       "      <td>0.107087</td>\n",
       "      <td>1</td>\n",
       "      <td>7.939872</td>\n",
       "      <td>0</td>\n",
       "    </tr>\n",
       "    <tr>\n",
       "      <th>4</th>\n",
       "      <td>1</td>\n",
       "      <td>4</td>\n",
       "      <td>20128.0</td>\n",
       "      <td>20128.0</td>\n",
       "      <td>0.0</td>\n",
       "      <td>0.0</td>\n",
       "      <td>0.0</td>\n",
       "      <td>1</td>\n",
       "      <td>-20128.0</td>\n",
       "      <td>0.0</td>\n",
       "      <td>0.999950</td>\n",
       "      <td>20128.000000</td>\n",
       "      <td>1</td>\n",
       "      <td>9.909917</td>\n",
       "      <td>0</td>\n",
       "    </tr>\n",
       "  </tbody>\n",
       "</table>\n",
       "</div>"
      ],
      "text/plain": [
       "   step  type   amount  oldbalanceOrg  newbalanceOrig  oldbalanceDest  \\\n",
       "0     1     4    181.0          181.0             0.0             0.0   \n",
       "1     1     1    181.0          181.0             0.0         21182.0   \n",
       "2     1     4   2806.0         2806.0             0.0             0.0   \n",
       "3     1     1   2806.0         2806.0             0.0         26202.0   \n",
       "4     1     4  20128.0        20128.0             0.0             0.0   \n",
       "\n",
       "   newbalanceDest  isFraud  OrigBalanceChange  DestBalanceChange  \\\n",
       "0             0.0        1             -181.0                0.0   \n",
       "1             0.0        1             -181.0           -21182.0   \n",
       "2             0.0        1            -2806.0                0.0   \n",
       "3             0.0        1            -2806.0           -26202.0   \n",
       "4             0.0        1           -20128.0                0.0   \n",
       "\n",
       "   amount_to_oldOrig  amount_to_oldDest  dest_is_customer  log_amount  \\\n",
       "0           0.994505         181.000000                 1    5.204007   \n",
       "1           0.994505           0.008545                 1    5.204007   \n",
       "2           0.999644        2806.000000                 1    7.939872   \n",
       "3           0.999644           0.107087                 1    7.939872   \n",
       "4           0.999950       20128.000000                 1    9.909917   \n",
       "\n",
       "   balance_mismatch  \n",
       "0                 0  \n",
       "1                 0  \n",
       "2                 0  \n",
       "3                 0  \n",
       "4                 0  "
      ]
     },
     "execution_count": 18,
     "metadata": {},
     "output_type": "execute_result"
    }
   ],
   "source": [
    "from sklearn.preprocessing import LabelEncoder\n",
    "\n",
    "le = LabelEncoder()\n",
    "df_model['type'] = le.fit_transform(df_model['type'])\n",
    "df_model.head()"
   ]
  },
  {
   "cell_type": "markdown",
   "metadata": {
    "id": "Qt1XZ24LtWR_"
   },
   "source": [
    "# Outlier Detection"
   ]
  },
  {
   "cell_type": "code",
   "execution_count": 19,
   "metadata": {
    "colab": {
     "base_uri": "https://localhost:8080/",
     "height": 487
    },
    "id": "yGzOxRKNtRXy",
    "outputId": "f2efbac7-6d11-4dfd-d38e-d713488bb7c6"
   },
   "outputs": [
    {
     "data": {
      "image/png": "[encoded data removed]",
      "text/plain": [
       "<Figure size 1000x500 with 1 Axes>"
      ]
     },
     "metadata": {},
     "output_type": "display_data"
    }
   ],
   "source": [
    "plt.figure(figsize=(10,5))\n",
    "sns.boxplot(x='amount', data=df)\n",
    "plt.title('Amount Distribution')\n",
    "plt.show()"
   ]
  },
  {
   "cell_type": "code",
   "execution_count": 20,
   "metadata": {
    "id": "lCg2JaVrtu1A"
   },
   "outputs": [],
   "source": [
    "df['amount_log'] = np.log1p(df['amount'])\n"
   ]
  },
  {
   "cell_type": "code",
   "execution_count": 21,
   "metadata": {
    "id": "Y7UQ_JvjvHAk"
   },
   "outputs": [],
   "source": [
    "from sklearn.model_selection import train_test_split\n",
    "X = df_model.drop('isFraud', axis=1)\n",
    "y = df_model['isFraud']\n",
    "X_train, X_test, y_train, y_test = train_test_split(X, y, test_size= 0.2, random_state=42, stratify=y)"
   ]
  },
  {
   "cell_type": "markdown",
   "metadata": {
    "id": "lXKAcUpwu-ly"
   },
   "source": [
    "# Handling Imbalance Data using SMOTE"
   ]
  },
  {
   "cell_type": "code",
   "execution_count": 22,
   "metadata": {
    "colab": {
     "base_uri": "https://localhost:8080/"
    },
    "id": "THYQWenGv8J_",
    "outputId": "936d6204-d716-4b3f-d8ff-4242de31e18f"
   },
   "outputs": [
    {
     "name": "stdout",
     "output_type": "stream",
     "text": [
      "Training set after SMOTE: (15998, 14)\n",
      "Fraud distribution after SMOTE:\n",
      " isFraud\n",
      "0    7999\n",
      "1    7999\n",
      "Name: count, dtype: int64\n"
     ]
    }
   ],
   "source": [
    "from imblearn.over_sampling import SMOTE\n",
    "\n",
    "smote = SMOTE(random_state=42)\n",
    "X_train_smote, y_train_smote = smote.fit_resample(X_train, y_train)\n",
    "\n",
    "# Check shapes\n",
    "print(\"Training set after SMOTE:\", X_train_smote.shape)\n",
    "print(\"Fraud distribution after SMOTE:\\n\", y_train_smote.value_counts())\n"
   ]
  },
  {
   "cell_type": "markdown",
   "metadata": {
    "id": "ZH6_dLHHyPMd"
   },
   "source": [
    "# Standard Scaling"
   ]
  },
  {
   "cell_type": "code",
   "execution_count": 23,
   "metadata": {
    "id": "eg3jiKhIxyP8"
   },
   "outputs": [],
   "source": [
    "from sklearn.preprocessing import StandardScaler\n",
    "\n",
    "scaler = StandardScaler()\n",
    "X_train_scaled = X_train_smote.copy()\n",
    "X_test_scaled = X_test.copy()\n",
    "\n",
    "numeric_cols = ['step','amount','oldbalanceOrg','newbalanceOrig','oldbalanceDest','newbalanceDest']\n",
    "scaler = StandardScaler()\n",
    "X_train_smote[numeric_cols] = scaler.fit_transform(X_train_smote[numeric_cols])\n",
    "X_test[numeric_cols] = scaler.transform(X_test[numeric_cols])\n"
   ]
  },
  {
   "cell_type": "markdown",
   "metadata": {
    "id": "FhpG5lI2zBZH"
   },
   "source": [
    "# Logistic Regression - Accuracy 97%"
   ]
  },
  {
   "cell_type": "code",
   "execution_count": 24,
   "metadata": {
    "colab": {
     "base_uri": "https://localhost:8080/"
    },
    "id": "OnODgcCyyT5Z",
    "outputId": "ad6cf834-977a-4756-c2c5-2fb65bf0c078"
   },
   "outputs": [
    {
     "name": "stdout",
     "output_type": "stream",
     "text": [
      "Accuracy: 0.835352175863616\n",
      "Precision: 0.3799654576856649\n",
      "Recall: 0.9649122807017544\n",
      "F1-Score: 0.5452292441140025\n",
      "Confusion Matrix:\n",
      " [[1642  359]\n",
      " [   8  220]]\n"
     ]
    },
    {
     "name": "stderr",
     "output_type": "stream",
     "text": [
      "/opt/anaconda3/lib/python3.12/site-packages/sklearn/linear_model/_logistic.py:469: ConvergenceWarning: lbfgs failed to converge (status=1):\n",
      "STOP: TOTAL NO. of ITERATIONS REACHED LIMIT.\n",
      "\n",
      "Increase the number of iterations (max_iter) or scale the data as shown in:\n",
      "    https://scikit-learn.org/stable/modules/preprocessing.html\n",
      "Please also refer to the documentation for alternative solver options:\n",
      "    https://scikit-learn.org/stable/modules/linear_model.html#logistic-regression\n",
      "  n_iter_i = _check_optimize_result(\n"
     ]
    }
   ],
   "source": [
    "from sklearn.linear_model import LogisticRegression\n",
    "lr_model = LogisticRegression(random_state =42)\n",
    "lr_model.fit(X_train_scaled, y_train_smote)\n",
    "\n",
    "y_pred_lr = lr_model.predict(X_test_scaled)\n",
    "\n",
    "print(\"Accuracy:\", accuracy_score(y_test, y_pred_lr))\n",
    "print(\"Precision:\", precision_score(y_test, y_pred_lr, zero_division=0))\n",
    "print(\"Recall:\", recall_score(y_test, y_pred_lr))\n",
    "print(\"F1-Score:\", f1_score(y_test, y_pred_lr, zero_division=0))\n",
    "print(\"Confusion Matrix:\\n\", confusion_matrix(y_test, y_pred_lr))\n"
   ]
  },
  {
   "cell_type": "markdown",
   "metadata": {
    "id": "ccBPoyty1mz_"
   },
   "source": [
    "# Random Forest - Accuracy 99% Overfit"
   ]
  },
  {
   "cell_type": "code",
   "execution_count": 25,
   "metadata": {
    "colab": {
     "base_uri": "https://localhost:8080/"
    },
    "id": "_8CmHft0z5A1",
    "outputId": "36370066-0853-484b-aab4-ed461214f6ad"
   },
   "outputs": [
    {
     "name": "stdout",
     "output_type": "stream",
     "text": [
      "Accuracy: 0.9995513683266039\n",
      "Precision: 1.0\n",
      "Recall: 0.9956140350877193\n",
      "F1-Score: 0.9978021978021978\n",
      "Confusion Matrix:\n",
      " [[2001    0]\n",
      " [   1  227]]\n"
     ]
    }
   ],
   "source": [
    "from sklearn.ensemble import RandomForestClassifier\n",
    "rf_model = RandomForestClassifier(random_state=42, n_estimators=100)\n",
    "rf_model.fit(X_train_scaled, y_train_smote)\n",
    "\n",
    "y_pred_rf = rf_model.predict(X_test_scaled)\n",
    "\n",
    "print(\"Accuracy:\", accuracy_score(y_test, y_pred_rf))\n",
    "print(\"Precision:\", precision_score(y_test, y_pred_rf, zero_division=0))\n",
    "print(\"Recall:\", recall_score(y_test, y_pred_rf))\n",
    "print(\"F1-Score:\", f1_score(y_test, y_pred_rf, zero_division=0))\n",
    "print(\"Confusion Matrix:\\n\", confusion_matrix(y_test, y_pred_rf))"
   ]
  },
  {
   "cell_type": "markdown",
   "metadata": {
    "id": "0o2vxYwsQKh9"
   },
   "source": [
    "# XG Booster"
   ]
  },
  {
   "cell_type": "code",
   "execution_count": 26,
   "metadata": {
    "colab": {
     "base_uri": "https://localhost:8080/"
    },
    "id": "QmuS4pB5QLzS",
    "outputId": "86f1b802-5d9c-45df-e530-162a9b5b12d0"
   },
   "outputs": [
    {
     "name": "stdout",
     "output_type": "stream",
     "text": [
      "Accuracy: 0.9991027366532077\n",
      "Precision: 1.0\n",
      "Recall: 0.9912280701754386\n",
      "F1-Score: 0.9955947136563876\n",
      "Confusion Matrix:\n",
      " [[2001    0]\n",
      " [   2  226]]\n"
     ]
    },
    {
     "name": "stderr",
     "output_type": "stream",
     "text": [
      "/opt/anaconda3/lib/python3.12/site-packages/xgboost/training.py:183: UserWarning: [18:50:00] WARNING: /Users/runner/work/xgboost/xgboost/src/learner.cc:738: \n",
      "Parameters: { \"use_label_encoder\" } are not used.\n",
      "\n",
      "  bst.update(dtrain, iteration=i, fobj=obj)\n"
     ]
    }
   ],
   "source": [
    "from xgboost import XGBClassifier\n",
    "xgb_model = XGBClassifier(random_state = 42, n_estimators=100, max_depth=5, learning_rate=0.1, use_label_encoder=False, eval_metric='logloss')\n",
    "xgb_model.fit(X_train_scaled, y_train_smote)\n",
    "\n",
    "y_pred_xgb = xgb_model.predict(X_test_scaled)\n",
    "\n",
    "print(\"Accuracy:\", accuracy_score(y_test, y_pred_xgb))\n",
    "print(\"Precision:\", precision_score(y_test, y_pred_xgb))\n",
    "print(\"Recall:\", recall_score(y_test, y_pred_xgb))\n",
    "print(\"F1-Score:\", f1_score(y_test, y_pred_xgb, zero_division=0))\n",
    "print(\"Confusion Matrix:\\n\", confusion_matrix(y_test, y_pred_xgb))\n"
   ]
  },
  {
   "cell_type": "code",
   "execution_count": 27,
   "metadata": {
    "colab": {
     "base_uri": "https://localhost:8080/",
     "height": 226
    },
    "id": "N8mOtijNSDRj",
    "outputId": "7b112c67-fbe9-402f-8ef7-28edf2fbf68a"
   },
   "outputs": [
    {
     "data": {
      "text/html": [
       "<div>\n",
       "<style scoped>\n",
       "    .dataframe tbody tr th:only-of-type {\n",
       "        vertical-align: middle;\n",
       "    }\n",
       "\n",
       "    .dataframe tbody tr th {\n",
       "        vertical-align: top;\n",
       "    }\n",
       "\n",
       "    .dataframe thead th {\n",
       "        text-align: right;\n",
       "    }\n",
       "</style>\n",
       "<table border=\"1\" class=\"dataframe\">\n",
       "  <thead>\n",
       "    <tr style=\"text-align: right;\">\n",
       "      <th></th>\n",
       "      <th>step</th>\n",
       "      <th>type</th>\n",
       "      <th>amount</th>\n",
       "      <th>oldbalanceOrg</th>\n",
       "      <th>newbalanceOrig</th>\n",
       "      <th>oldbalanceDest</th>\n",
       "      <th>newbalanceDest</th>\n",
       "      <th>OrigBalanceChange</th>\n",
       "      <th>DestBalanceChange</th>\n",
       "      <th>amount_to_oldOrig</th>\n",
       "      <th>amount_to_oldDest</th>\n",
       "      <th>dest_is_customer</th>\n",
       "      <th>log_amount</th>\n",
       "      <th>balance_mismatch</th>\n",
       "      <th>actual</th>\n",
       "      <th>predicted</th>\n",
       "      <th>prob_fraud</th>\n",
       "    </tr>\n",
       "  </thead>\n",
       "  <tbody>\n",
       "    <tr>\n",
       "      <th>4522</th>\n",
       "      <td>2</td>\n",
       "      <td>3</td>\n",
       "      <td>23147.49</td>\n",
       "      <td>169352.26</td>\n",
       "      <td>146204.77</td>\n",
       "      <td>0.00</td>\n",
       "      <td>0.00</td>\n",
       "      <td>-23147.49</td>\n",
       "      <td>0.00</td>\n",
       "      <td>0.136682</td>\n",
       "      <td>23147.490000</td>\n",
       "      <td>0</td>\n",
       "      <td>10.049685</td>\n",
       "      <td>0</td>\n",
       "      <td>0</td>\n",
       "      <td>0</td>\n",
       "      <td>0.0</td>\n",
       "    </tr>\n",
       "    <tr>\n",
       "      <th>7816</th>\n",
       "      <td>6</td>\n",
       "      <td>3</td>\n",
       "      <td>17978.87</td>\n",
       "      <td>31239.00</td>\n",
       "      <td>13260.13</td>\n",
       "      <td>0.00</td>\n",
       "      <td>0.00</td>\n",
       "      <td>-17978.87</td>\n",
       "      <td>0.00</td>\n",
       "      <td>0.575508</td>\n",
       "      <td>17978.870000</td>\n",
       "      <td>0</td>\n",
       "      <td>9.797008</td>\n",
       "      <td>0</td>\n",
       "      <td>0</td>\n",
       "      <td>0</td>\n",
       "      <td>0.0</td>\n",
       "    </tr>\n",
       "    <tr>\n",
       "      <th>1494</th>\n",
       "      <td>1</td>\n",
       "      <td>4</td>\n",
       "      <td>100677.86</td>\n",
       "      <td>0.00</td>\n",
       "      <td>0.00</td>\n",
       "      <td>701567.56</td>\n",
       "      <td>55974.56</td>\n",
       "      <td>0.00</td>\n",
       "      <td>-645593.00</td>\n",
       "      <td>100677.860000</td>\n",
       "      <td>0.143504</td>\n",
       "      <td>1</td>\n",
       "      <td>11.519691</td>\n",
       "      <td>0</td>\n",
       "      <td>0</td>\n",
       "      <td>0</td>\n",
       "      <td>0.0</td>\n",
       "    </tr>\n",
       "    <tr>\n",
       "      <th>1713</th>\n",
       "      <td>1</td>\n",
       "      <td>3</td>\n",
       "      <td>2056.59</td>\n",
       "      <td>0.00</td>\n",
       "      <td>0.00</td>\n",
       "      <td>0.00</td>\n",
       "      <td>0.00</td>\n",
       "      <td>0.00</td>\n",
       "      <td>0.00</td>\n",
       "      <td>2056.590000</td>\n",
       "      <td>2056.590000</td>\n",
       "      <td>0</td>\n",
       "      <td>7.629291</td>\n",
       "      <td>0</td>\n",
       "      <td>0</td>\n",
       "      <td>0</td>\n",
       "      <td>0.0</td>\n",
       "    </tr>\n",
       "    <tr>\n",
       "      <th>1506</th>\n",
       "      <td>1</td>\n",
       "      <td>4</td>\n",
       "      <td>161217.61</td>\n",
       "      <td>0.00</td>\n",
       "      <td>0.00</td>\n",
       "      <td>199733.00</td>\n",
       "      <td>5602234.95</td>\n",
       "      <td>0.00</td>\n",
       "      <td>5402501.95</td>\n",
       "      <td>161217.610000</td>\n",
       "      <td>0.807162</td>\n",
       "      <td>1</td>\n",
       "      <td>11.990517</td>\n",
       "      <td>0</td>\n",
       "      <td>0</td>\n",
       "      <td>0</td>\n",
       "      <td>0.0</td>\n",
       "    </tr>\n",
       "  </tbody>\n",
       "</table>\n",
       "</div>"
      ],
      "text/plain": [
       "      step  type     amount  oldbalanceOrg  newbalanceOrig  oldbalanceDest  \\\n",
       "4522     2     3   23147.49      169352.26       146204.77            0.00   \n",
       "7816     6     3   17978.87       31239.00        13260.13            0.00   \n",
       "1494     1     4  100677.86           0.00            0.00       701567.56   \n",
       "1713     1     3    2056.59           0.00            0.00            0.00   \n",
       "1506     1     4  161217.61           0.00            0.00       199733.00   \n",
       "\n",
       "      newbalanceDest  OrigBalanceChange  DestBalanceChange  amount_to_oldOrig  \\\n",
       "4522            0.00          -23147.49               0.00           0.136682   \n",
       "7816            0.00          -17978.87               0.00           0.575508   \n",
       "1494        55974.56               0.00         -645593.00      100677.860000   \n",
       "1713            0.00               0.00               0.00        2056.590000   \n",
       "1506      5602234.95               0.00         5402501.95      161217.610000   \n",
       "\n",
       "      amount_to_oldDest  dest_is_customer  log_amount  balance_mismatch  \\\n",
       "4522       23147.490000                 0   10.049685                 0   \n",
       "7816       17978.870000                 0    9.797008                 0   \n",
       "1494           0.143504                 1   11.519691                 0   \n",
       "1713        2056.590000                 0    7.629291                 0   \n",
       "1506           0.807162                 1   11.990517                 0   \n",
       "\n",
       "      actual  predicted  prob_fraud  \n",
       "4522       0          0         0.0  \n",
       "7816       0          0         0.0  \n",
       "1494       0          0         0.0  \n",
       "1713       0          0         0.0  \n",
       "1506       0          0         0.0  "
      ]
     },
     "execution_count": 27,
     "metadata": {},
     "output_type": "execute_result"
    }
   ],
   "source": [
    "# Add predicted class and predicted probability to X_test\n",
    "X_test_eda = X_test_scaled.copy()\n",
    "X_test_eda['actual'] = y_test.values\n",
    "X_test_eda['predicted'] = rf_model.predict(X_test_scaled)\n",
    "X_test_eda['prob_fraud'] = rf_model.predict_proba(X_test_scaled)[:,1]\n",
    "\n",
    "X_test_eda.head()\n"
   ]
  },
  {
   "cell_type": "code",
   "execution_count": 28,
   "metadata": {
    "colab": {
     "base_uri": "https://localhost:8080/",
     "height": 363
    },
    "id": "bRLELDzbXUX3",
    "outputId": "f7a87b6d-4089-44cd-ad4a-c62e8fdecdb0"
   },
   "outputs": [
    {
     "data": {
      "text/html": [
       "<div>\n",
       "<style scoped>\n",
       "    .dataframe tbody tr th:only-of-type {\n",
       "        vertical-align: middle;\n",
       "    }\n",
       "\n",
       "    .dataframe tbody tr th {\n",
       "        vertical-align: top;\n",
       "    }\n",
       "\n",
       "    .dataframe thead th {\n",
       "        text-align: right;\n",
       "    }\n",
       "</style>\n",
       "<table border=\"1\" class=\"dataframe\">\n",
       "  <thead>\n",
       "    <tr style=\"text-align: right;\">\n",
       "      <th></th>\n",
       "      <th>prob_fraud</th>\n",
       "      <th>actual</th>\n",
       "      <th>predicted</th>\n",
       "    </tr>\n",
       "  </thead>\n",
       "  <tbody>\n",
       "    <tr>\n",
       "      <th>305</th>\n",
       "      <td>1.0</td>\n",
       "      <td>1</td>\n",
       "      <td>1</td>\n",
       "    </tr>\n",
       "    <tr>\n",
       "      <th>426</th>\n",
       "      <td>1.0</td>\n",
       "      <td>1</td>\n",
       "      <td>1</td>\n",
       "    </tr>\n",
       "    <tr>\n",
       "      <th>746</th>\n",
       "      <td>1.0</td>\n",
       "      <td>1</td>\n",
       "      <td>1</td>\n",
       "    </tr>\n",
       "    <tr>\n",
       "      <th>324</th>\n",
       "      <td>1.0</td>\n",
       "      <td>1</td>\n",
       "      <td>1</td>\n",
       "    </tr>\n",
       "    <tr>\n",
       "      <th>831</th>\n",
       "      <td>1.0</td>\n",
       "      <td>1</td>\n",
       "      <td>1</td>\n",
       "    </tr>\n",
       "    <tr>\n",
       "      <th>206</th>\n",
       "      <td>1.0</td>\n",
       "      <td>1</td>\n",
       "      <td>1</td>\n",
       "    </tr>\n",
       "    <tr>\n",
       "      <th>598</th>\n",
       "      <td>1.0</td>\n",
       "      <td>1</td>\n",
       "      <td>1</td>\n",
       "    </tr>\n",
       "    <tr>\n",
       "      <th>420</th>\n",
       "      <td>1.0</td>\n",
       "      <td>1</td>\n",
       "      <td>1</td>\n",
       "    </tr>\n",
       "    <tr>\n",
       "      <th>140</th>\n",
       "      <td>1.0</td>\n",
       "      <td>1</td>\n",
       "      <td>1</td>\n",
       "    </tr>\n",
       "    <tr>\n",
       "      <th>1120</th>\n",
       "      <td>1.0</td>\n",
       "      <td>1</td>\n",
       "      <td>1</td>\n",
       "    </tr>\n",
       "  </tbody>\n",
       "</table>\n",
       "</div>"
      ],
      "text/plain": [
       "      prob_fraud  actual  predicted\n",
       "305          1.0       1          1\n",
       "426          1.0       1          1\n",
       "746          1.0       1          1\n",
       "324          1.0       1          1\n",
       "831          1.0       1          1\n",
       "206          1.0       1          1\n",
       "598          1.0       1          1\n",
       "420          1.0       1          1\n",
       "140          1.0       1          1\n",
       "1120         1.0       1          1"
      ]
     },
     "execution_count": 28,
     "metadata": {},
     "output_type": "execute_result"
    }
   ],
   "source": [
    "# Top 10 transactions with highest predicted fraud probability\n",
    "top_frauds = X_test_eda.sort_values('prob_fraud', ascending=False).head(10)\n",
    "top_frauds[['prob_fraud','actual','predicted']]\n"
   ]
  },
  {
   "cell_type": "markdown",
   "metadata": {
    "id": "Yg5tVPg3WG7L"
   },
   "source": [
    "# Classification Report"
   ]
  },
  {
   "cell_type": "code",
   "execution_count": 29,
   "metadata": {
    "colab": {
     "base_uri": "https://localhost:8080/",
     "height": 1000
    },
    "id": "tsd7gjuaSDsU",
    "outputId": "dc11cdd9-1d88-4513-a44e-5fe1c93b5930"
   },
   "outputs": [
    {
     "data": {
      "image/png": "[encoded data removed]",
      "text/plain": [
       "<Figure size 1000x600 with 2 Axes>"
      ]
     },
     "metadata": {},
     "output_type": "display_data"
    },
    {
     "data": {
      "image/png": "[encoded data removed]",
      "text/plain": [
       "<Figure size 800x600 with 2 Axes>"
      ]
     },
     "metadata": {},
     "output_type": "display_data"
    }
   ],
   "source": [
    "from sklearn.metrics import classification_report\n",
    "\n",
    "report = classification_report(y_test, y_pred_rf, output_dict=True)\n",
    "report_df = pd.DataFrame(report).transpose()\n",
    "\n",
    "plt.figure(figsize=(10, 6))\n",
    "sns.heatmap(report_df.iloc[:-1, :-1], annot=True, cmap='Blues', fmt='.3f')\n",
    "plt.title('Classification Report Heatmap')\n",
    "plt.show()\n",
    "\n",
    "# Plot the confusion matrix properly\n",
    "from sklearn.metrics import confusion_matrix\n",
    "import numpy as np\n",
    "\n",
    "cm = confusion_matrix(y_test, y_pred_rf)\n",
    "plt.figure(figsize=(8, 6))\n",
    "sns.heatmap(cm, annot=True, fmt='d', cmap='Blues',\n",
    "            xticklabels=['Non-Fraud', 'Fraud'],\n",
    "            yticklabels=['Non-Fraud', 'Fraud'])\n",
    "plt.title('Confusion Matrix')\n",
    "plt.ylabel('Actual')\n",
    "plt.xlabel('Predicted')\n",
    "plt.show()\n"
   ]
  },
  {
   "cell_type": "markdown",
   "metadata": {
    "id": "NOaWVwi-UbGP"
   },
   "source": [
    "# Hyperparameter Tuning"
   ]
  },
  {
   "cell_type": "code",
   "execution_count": 33,
   "metadata": {},
   "outputs": [
    {
     "name": "stdout",
     "output_type": "stream",
     "text": [
      "Best Random Forest Parameters: {'n_estimators': 200, 'min_samples_split': 5, 'min_samples_leaf': 1, 'max_features': 'log2', 'max_depth': 20}\n",
      "Best F1-Score: 0.9997498436258759\n"
     ]
    }
   ],
   "source": [
    "from sklearn.model_selection import RandomizedSearchCV\n",
    "from sklearn.ensemble import RandomForestClassifier\n",
    "\n",
    "# Step 1: Define a smaller parameter grid\n",
    "rf_param_grid_small = {\n",
    "    'n_estimators': [100, 200],           # Number of trees\n",
    "    'max_depth': [10, 20, None],          # Max depth of trees\n",
    "    'min_samples_split': [2, 5],          # Min samples to split\n",
    "    'min_samples_leaf': [1, 2],           # Min samples at leaf\n",
    "    'max_features': ['sqrt', 'log2']      # Features considered for split\n",
    "}\n",
    "\n",
    "# Step 2: Run RandomizedSearchCV\n",
    "rf_random = RandomizedSearchCV(\n",
    "    estimator=RandomForestClassifier(random_state=42),\n",
    "    param_distributions=rf_param_grid_small,\n",
    "    n_iter=5,           # Only 5 random combinations\n",
    "    cv=3,               # 3-fold CV to reduce runtime\n",
    "    scoring='f1',\n",
    "    n_jobs=-1,\n",
    "    random_state=42\n",
    ")\n",
    "\n",
    "# Step 3: Fit to training data\n",
    "rf_random.fit(X_train_scaled, y_train_smote)\n",
    "\n",
    "# Step 4: Check best parameters\n",
    "print(\"Best Random Forest Parameters:\", rf_random.best_params_)\n",
    "print(\"Best F1-Score:\", rf_random.best_score_)\n",
    "\n",
    "# Step 5: Use the best estimator\n",
    "best_rf_model = rf_random.best_estimator_\n",
    "y_pred_rf = best_rf_model.predict(X_test_scaled)\n"
   ]
  },
  {
   "cell_type": "code",
   "execution_count": 35,
   "metadata": {
    "colab": {
     "base_uri": "https://localhost:8080/",
     "height": 564
    },
    "id": "z6AijIY0YGpT",
    "outputId": "09a69274-8c0c-425c-db5f-2a7b308223a3"
   },
   "outputs": [
    {
     "data": {
      "image/png": "[encoded data removed]",
      "text/plain": [
       "<Figure size 1000x600 with 1 Axes>"
      ]
     },
     "metadata": {},
     "output_type": "display_data"
    }
   ],
   "source": [
    "importances = best_rf_model.feature_importances_\n",
    "coef_df = pd.DataFrame({\n",
    "    'feature': X_train_scaled.columns,\n",
    "    'importance': importances\n",
    "}).sort_values(by='importance', ascending=False)\n",
    "\n",
    "plt.figure(figsize=(10,6))\n",
    "sns.barplot(x='importance', y='feature', data=coef_df)\n",
    "plt.title(\"Feature Importance (Random Forest)\")\n",
    "plt.show()"
   ]
  },
  {
   "cell_type": "code",
   "execution_count": 36,
   "metadata": {},
   "outputs": [
    {
     "name": "stdout",
     "output_type": "stream",
     "text": [
      "['step' 'type' 'amount' 'oldbalanceOrg' 'newbalanceOrig' 'oldbalanceDest'\n",
      " 'newbalanceDest' 'OrigBalanceChange' 'DestBalanceChange'\n",
      " 'amount_to_oldOrig' 'amount_to_oldDest' 'dest_is_customer' 'log_amount'\n",
      " 'balance_mismatch']\n"
     ]
    }
   ],
   "source": [
    "import joblib\n",
    "joblib.dump(rf_model, 'fraud_detection.pkl')\n",
    "print(rf_model.feature_names_in_)\n"
   ]
  },
  {
   "cell_type": "code",
   "execution_count": null,
   "metadata": {},
   "outputs": [],
   "source": []
  }
 ],
 "metadata": {
  "colab": {
   "provenance": []
  },
  "kernelspec": {
   "display_name": "Python 3 (ipykernel)",
   "language": "python",
   "name": "python3"
  },
  "language_info": {
   "codemirror_mode": {
    "name": "ipython",
    "version": 3
   },
   "file_extension": ".py",
   "mimetype": "text/x-python",
   "name": "python",
   "nbconvert_exporter": "python",
   "pygments_lexer": "ipython3",
   "version": "3.12.7"
  }
 },
 "nbformat": 4,
 "nbformat_minor": 4
}
