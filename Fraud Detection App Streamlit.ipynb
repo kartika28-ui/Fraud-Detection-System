{
 "cells": [
  {
   "cell_type": "code",
   "execution_count": 1,
   "id": "66cde772-a631-4598-a810-939ba1f4cf04",
   "metadata": {},
   "outputs": [],
   "source": [
    "import streamlit as st\n",
    "import numpy as np\n",
    "import joblib\n",
    "import math"
   ]
  },
  {
   "cell_type": "code",
   "execution_count": 2,
   "id": "3457ff29-b68f-44ec-9dc8-f0080b91ee18",
   "metadata": {},
   "outputs": [],
   "source": [
    "model = joblib.load(\"fraud_detection.pkl\")"
   ]
  },
  {
   "cell_type": "code",
   "execution_count": 3,
   "id": "cd2eb786-18ef-4d5e-96bb-53428a4fd538",
   "metadata": {},
   "outputs": [
    {
     "name": "stderr",
     "output_type": "stream",
     "text": [
      "2025-10-06 15:34:30.978 \n",
      "  \u001b[33m\u001b[1mWarning:\u001b[0m to view this Streamlit app on a browser, run it with the following\n",
      "  command:\n",
      "\n",
      "    streamlit run /opt/anaconda3/lib/python3.12/site-packages/ipykernel_launcher.py [ARGUMENTS]\n",
      "2025-10-06 15:34:30.979 Session state does not function when running a script without `streamlit run`\n"
     ]
    },
    {
     "data": {
      "text/plain": [
       "DeltaGenerator()"
      ]
     },
     "execution_count": 3,
     "metadata": {},
     "output_type": "execute_result"
    }
   ],
   "source": [
    "st.set_page_config(page_title=\"Fraud Detection System\", page_icon=\"💳\", layout=\"centered\")\n",
    "st.title(\"💳 Real-Time Fraud Detection System\")\n",
    "st.write(\"Predict whether a transaction is **Fraudulent or Genuine**\")\n",
    "\n",
    "st.subheader(\"Enter Transaction Details\")\n",
    "\n",
    "col1, col2 = st.columns(2)\n",
    "\n",
    "with col1:\n",
    "    type_input = st.selectbox(\n",
    "        \"Transaction Type\",\n",
    "        [\"CASH-IN\", \"CASH-OUT\", \"DEBIT\", \"PAYMENT\", \"TRANSFER\"]\n",
    "    )\n",
    "    amount = st.number_input(\"Transaction Amount\", min_value=0.0, step=100.0)\n",
    "    oldbalanceOrg = st.number_input(\"Old Balance (Origin)\", min_value=0.0, step=100.0)\n",
    "    newbalanceOrig = st.number_input(\"New Balance (Origin)\", min_value=0.0, step=100.0)\n",
    "\n",
    "with col2:\n",
    "    oldbalanceDest = st.number_input(\"Old Balance (Destination)\", min_value=0.0, step=100.0)\n",
    "    newbalanceDest = st.number_input(\"New Balance (Destination)\", min_value=0.0, step=100.0)\n",
    "    dest_is_customer = st.selectbox(\"Is Destination a Customer?\", [\"Yes\", \"No\"])\n",
    "\n",
    "OrigBalanceChange = oldbalanceOrg - newbalanceOrig - amount\n",
    "DestBalanceChange = newbalanceDest - oldbalanceDest - amount\n",
    "\n",
    "amount_to_oldOrig = amount / (oldbalanceOrg + 1)\n",
    "amount_to_oldDest = amount / (oldbalanceDest + 1)\n",
    "\n",
    "log_amount = math.log(amount + 1)\n",
    "\n",
    "# Encode categorical and binary values\n",
    "type_map = {\"CASH-IN\": 0, \"CASH-OUT\": 1, \"DEBIT\": 2, \"PAYMENT\": 3, \"TRANSFER\": 4}\n",
    "type_encoded = type_map[type_input]\n",
    "dest_is_customer = 1 if dest_is_customer == \"Yes\" else 0\n",
    "\n",
    "input_data = np.array([[\n",
    "    type_encoded,\n",
    "    amount,\n",
    "    oldbalanceOrg,\n",
    "    newbalanceOrig,\n",
    "    oldbalanceDest,\n",
    "    newbalanceDest,\n",
    "    OrigBalanceChange,\n",
    "    DestBalanceChange,\n",
    "    amount_to_oldOrig,\n",
    "    amount_to_oldDest,\n",
    "    log_amount,\n",
    "    dest_is_customer\n",
    "]])\n",
    "\n",
    "if st.button(\"Predict Fraud Status\"):\n",
    "    prediction = model.predict(input_data)[0]\n",
    "    probability = model.predict_proba(input_data)[0][1] if hasattr(model, \"predict_proba\") else None\n",
    "\n",
    "    st.subheader(\"Prediction Result\")\n",
    "    if prediction == 1:\n",
    "        st.error(\"🚨 This transaction is **FRAUDULENT**.\")\n",
    "    else:\n",
    "        st.success(\"✅ This transaction appears **GENUINE**.\")\n",
    "\n",
    "    if probability is not None:\n",
    "        st.info(f\"Fraud Probability: **{probability * 100:.2f}%**\")\n",
    "\n",
    "st.markdown(\"---\")\n",
    "st.caption(\"Developed by Kartika • Fraud Detection ML Model using Logistic Regression\")"
   ]
  },
  {
   "cell_type": "code",
   "execution_count": null,
   "id": "7446cfa5-b2df-4e49-b978-2b7a3079f77e",
   "metadata": {},
   "outputs": [],
   "source": []
  }
 ],
 "metadata": {
  "kernelspec": {
   "display_name": "Python 3 (ipykernel)",
   "language": "python",
   "name": "python3"
  },
  "language_info": {
   "codemirror_mode": {
    "name": "ipython",
    "version": 3
   },
   "file_extension": ".py",
   "mimetype": "text/x-python",
   "name": "python",
   "nbconvert_exporter": "python",
   "pygments_lexer": "ipython3",
   "version": "3.12.7"
  }
 },
 "nbformat": 4,
 "nbformat_minor": 5
}
